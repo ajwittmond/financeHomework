{
 "cells": [
  {
   "cell_type": "code",
   "execution_count": 2,
   "metadata": {},
   "outputs": [
    {
     "name": "stdout",
     "output_type": "stream",
     "text": [
      "Collecting pandas\n",
      "  Using cached https://files.pythonhosted.org/packages/52/3f/f6a428599e0d4497e1595030965b5ba455fd8ade6e977e3c819973c4b41d/pandas-0.25.3-cp36-cp36m-manylinux1_x86_64.whl\n",
      "Collecting numpy>=1.13.3 (from pandas)\n",
      "  Using cached https://files.pythonhosted.org/packages/d2/ab/43e678759326f728de861edbef34b8e2ad1b1490505f20e0d1f0716c3bf4/numpy-1.17.4-cp36-cp36m-manylinux1_x86_64.whl\n",
      "Collecting pytz>=2017.2 (from pandas)\n",
      "  Using cached https://files.pythonhosted.org/packages/e7/f9/f0b53f88060247251bf481fa6ea62cd0d25bf1b11a87888e53ce5b7c8ad2/pytz-2019.3-py2.py3-none-any.whl\n",
      "Collecting python-dateutil>=2.6.1 (from pandas)\n",
      "  Using cached https://files.pythonhosted.org/packages/d4/70/d60450c3dd48ef87586924207ae8907090de0b306af2bce5d134d78615cb/python_dateutil-2.8.1-py2.py3-none-any.whl\n",
      "Collecting six>=1.5 (from python-dateutil>=2.6.1->pandas)\n",
      "  Using cached https://files.pythonhosted.org/packages/65/26/32b8464df2a97e6dd1b656ed26b2c194606c16fe163c695a992b36c11cdf/six-1.13.0-py2.py3-none-any.whl\n",
      "Installing collected packages: numpy, pytz, six, python-dateutil, pandas\n",
      "Successfully installed numpy-1.17.4 pandas-0.25.3 python-dateutil-2.8.1 pytz-2019.3 six-1.13.0\n",
      "Collecting matplotlib\n",
      "  Using cached https://files.pythonhosted.org/packages/57/4f/dd381ecf6c6ab9bcdaa8ea912e866dedc6e696756156d8ecc087e20817e2/matplotlib-3.1.1-cp36-cp36m-manylinux1_x86_64.whl\n",
      "Collecting numpy>=1.11 (from matplotlib)\n",
      "  Using cached https://files.pythonhosted.org/packages/d2/ab/43e678759326f728de861edbef34b8e2ad1b1490505f20e0d1f0716c3bf4/numpy-1.17.4-cp36-cp36m-manylinux1_x86_64.whl\n",
      "Collecting python-dateutil>=2.1 (from matplotlib)\n",
      "  Using cached https://files.pythonhosted.org/packages/d4/70/d60450c3dd48ef87586924207ae8907090de0b306af2bce5d134d78615cb/python_dateutil-2.8.1-py2.py3-none-any.whl\n",
      "Collecting kiwisolver>=1.0.1 (from matplotlib)\n",
      "  Using cached https://files.pythonhosted.org/packages/f8/a1/5742b56282449b1c0968197f63eae486eca2c35dcd334bab75ad524e0de1/kiwisolver-1.1.0-cp36-cp36m-manylinux1_x86_64.whl\n",
      "Collecting cycler>=0.10 (from matplotlib)\n",
      "  Using cached https://files.pythonhosted.org/packages/f7/d2/e07d3ebb2bd7af696440ce7e754c59dd546ffe1bbe732c8ab68b9c834e61/cycler-0.10.0-py2.py3-none-any.whl\n",
      "Collecting pyparsing!=2.0.4,!=2.1.2,!=2.1.6,>=2.0.1 (from matplotlib)\n",
      "  Using cached https://files.pythonhosted.org/packages/c0/0c/fc2e007d9a992d997f04a80125b0f183da7fb554f1de701bbb70a8e7d479/pyparsing-2.4.5-py2.py3-none-any.whl\n",
      "Collecting six>=1.5 (from python-dateutil>=2.1->matplotlib)\n",
      "  Using cached https://files.pythonhosted.org/packages/65/26/32b8464df2a97e6dd1b656ed26b2c194606c16fe163c695a992b36c11cdf/six-1.13.0-py2.py3-none-any.whl\n",
      "Collecting setuptools (from kiwisolver>=1.0.1->matplotlib)\n",
      "  Using cached https://files.pythonhosted.org/packages/d9/de/554b6310ac87c5b921bc45634b07b11394fe63bc4cb5176f5240addf18ab/setuptools-41.6.0-py2.py3-none-any.whl\n",
      "Installing collected packages: numpy, six, python-dateutil, setuptools, kiwisolver, cycler, pyparsing, matplotlib\n",
      "Successfully installed cycler-0.10.0 kiwisolver-1.1.0 matplotlib-3.1.1 numpy-1.17.4 pyparsing-2.4.5 python-dateutil-2.8.1 setuptools-41.6.0 six-1.13.0\n",
      "Collecting scipy\n",
      "  Using cached https://files.pythonhosted.org/packages/80/72/a26272b99220804038d8ac4aabe8383cfd969ec548695b0df258058ee919/scipy-1.3.2-cp36-cp36m-manylinux1_x86_64.whl\n",
      "Collecting numpy>=1.13.3 (from scipy)\n",
      "  Using cached https://files.pythonhosted.org/packages/d2/ab/43e678759326f728de861edbef34b8e2ad1b1490505f20e0d1f0716c3bf4/numpy-1.17.4-cp36-cp36m-manylinux1_x86_64.whl\n",
      "Installing collected packages: numpy, scipy\n",
      "Successfully installed numpy-1.17.4 scipy-1.3.2\n"
     ]
    }
   ],
   "source": [
    "#installing libraries\n",
    "import sys\n",
    "!{sys.executable} -m pip install pandas --user\n",
    "!{sys.executable} -m pip install matplotlib --user\n",
    "!{sys.executable} -m pip install scipy --user"
   ]
  },
  {
   "cell_type": "code",
   "execution_count": 3,
   "metadata": {
    "scrolled": true
   },
   "outputs": [],
   "source": [
    "import pandas as pd\n",
    "import numpy as np\n",
    "import scipy.stats as st\n",
    "import collections\n",
    "import numbers"
   ]
  },
  {
   "cell_type": "markdown",
   "metadata": {},
   "source": [
    "# Initial Conditions"
   ]
  },
  {
   "cell_type": "code",
   "execution_count": 4,
   "metadata": {},
   "outputs": [],
   "source": [
    "S = 68.04\n",
    "K = 67.50\n",
    "σ = 0.2433\n",
    "r = 0.0180\n",
    "T= 173\n",
    "δ = 0.0118"
   ]
  },
  {
   "cell_type": "markdown",
   "metadata": {},
   "source": [
    "# Defining the Binomial Tree"
   ]
  },
  {
   "cell_type": "code",
   "execution_count": 19,
   "metadata": {},
   "outputs": [],
   "source": [
    "import numpy as np\n",
    "\n",
    "class Node:\n",
    "    def __init__(self,left=None,right=None):\n",
    "        self.S = 0\n",
    "        self.δ = 0\n",
    "        self.b = 0\n",
    "        self.C = 0\n",
    "        self.P = 0\n",
    "        self.left = left\n",
    "        self.right = right\n",
    "\n",
    "class BinomialModel:\n",
    "    def __init__(self,S,δ,r,σ,K,T):\n",
    "        self.S = S\n",
    "        self.δ = δ\n",
    "        self.r = r\n",
    "        self.σ = σ\n",
    "        self.K = K\n",
    "        self.T = T\n",
    "        self.u = np.exp((r-δ)*T + σ*np.sqrt(T))\n",
    "        self.d = 1/self.u\n",
    "        self.p = (np.exp((r-δ)*T) - self.d)/(self.u-self.d)\n",
    "        N = st.norm.cdf\n",
    "        ϕ = st.norm.pdf\n",
    "        d1 = (np.log(S/K)+(r-δ+0.5*np.power(σ,2))*T)/(σ*np.sqrt(T))\n",
    "        d2 = (np.log(S/K)+(r-δ-0.5*np.power(σ,2))*T)/(σ*np.sqrt(T))\n",
    "        self.C_Eur = S*np.exp(-δ*T)*N(d1)-K*np.exp(-r*T)*N(d2)\n",
    "        self.P_Eur = K*np.exp(-r*T)*N(-d2)-S*np.exp(-δ*T)*N(-d1)\n",
    "        self.Δ_Call=np.exp(-δ*T)*N(d1)\n",
    "        self.Δ_Put=-np.exp(-δ*T)*N(-d1)\n",
    "        self.Γ_Call=(1.0/(S*self.σ*np.sqrt(T)))*np.exp(-δ*T)*ϕ(d1)\n",
    "        self.Γ_Put=self.Γ_Call\n",
    "        #Scaled by 1/100\n",
    "        self.ν_Call=(S*np.exp(-δ*T)*ϕ(d1)*np.sqrt(T))/100.0\n",
    "        self.ν_Put=self.ν_Call\n",
    "        #Scaled by 1/365\n",
    "        self.Θ_Call=(δ*S*np.exp(-δ*T)*N(d1)-r*K*np.exp(-r*T)*N(d2)-(σ/(2*np.sqrt(T)))*S*np.exp(-δ*T)*ϕ(d1))/365.0\n",
    "        self.Θ_Put=(r*K*np.exp(-r*T)*N(-d2)-δ*S*np.exp(-δ*T)*N(-d1)-(self.σ/(2*np.sqrt(T)))*S*np.exp(-δ*T)*ϕ(d1))/365.0\n",
    "        #Scaled 1/10,000\n",
    "        self.ρ_Call=(T*K*np.exp(-r*T)*N(d2))/10000.0\n",
    "        self.ρ_Put=(-T*K*np.exp(-r*T)*N(-d2))/10000.0\n",
    "        #Scaled 1/10,000\n",
    "        self.Ψ_Call=(-T*S*np.exp(-δ*T)*N(d1))/10000.0\n",
    "        self.Ψ_Put=(T*S*np.exp(-δ*T)*N(-d1))/10000.0\n",
    "        \n",
    "        \n",
    "\n",
    "    #creates recombining tree\n",
    "    def getTree(periods,americal=False):\n",
    "        prevlevel = np.repeat(Node, periods)\n",
    "        for i in range(0,periods): #fill out bottom level\n",
    "            prevlevel[i].S = np.pow(self.u,i)*np.pow(self.d,(periods-i))*self.S\n",
    "            prevlevel[i].C = max(0,prevlevel[i].S - self.K)\n",
    "\n",
    "        for i in range(1,periods): #start at the bottom\n",
    "            level = np.repeat(Node, periods - i)\n",
    "            for j in range(1,periods-i):\n",
    "                level[j].left = prevlevel[j]\n",
    "                level[j].right = prevlevel[j+1]\n",
    "                level[j].S = left.S/self.u\n",
    "                level[j].C = (1-self.p)*prevlevel[j].C + self.p*prevlevel[j+1].C\n",
    "                level[j].P = level[j].C - self.S*np.exp(-self.δ*self.T) + self.T*np.exp(-self.r*self.T)\n",
    "                level[j].δ = (prevlevel[j+1].C - prevlevel[j].C)/(prevlevel[j+1].S - prevlevel[j].S)\n",
    "                #TODO level[j].B\n",
    "            prevlevel = level\n",
    "\n",
    "        return prevlevel[0]\n",
    "\n",
    "\n"
   ]
  },
  {
   "cell_type": "code",
   "execution_count": 20,
   "metadata": {},
   "outputs": [],
   "source": [
    "model = BinomialModel(S,δ,r,σ,K,T)"
   ]
  },
  {
   "cell_type": "code",
   "execution_count": null,
   "metadata": {},
   "outputs": [],
   "source": []
  }
 ],
 "metadata": {
  "kernelspec": {
   "display_name": "Python 3",
   "language": "python",
   "name": "python3"
  },
  "language_info": {
   "codemirror_mode": {
    "name": "ipython",
    "version": 3
   },
   "file_extension": ".py",
   "mimetype": "text/x-python",
   "name": "python",
   "nbconvert_exporter": "python",
   "pygments_lexer": "ipython3",
   "version": "3.6.8"
  }
 },
 "nbformat": 4,
 "nbformat_minor": 2
}
